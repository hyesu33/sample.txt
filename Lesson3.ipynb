{
  "nbformat": 4,
  "nbformat_minor": 0,
  "metadata": {
    "colab": {
      "provenance": [],
      "authorship_tag": "ABX9TyN2kgamRtmQzVOVDrP74xpl",
      "include_colab_link": true
    },
    "kernelspec": {
      "name": "python3",
      "display_name": "Python 3"
    },
    "language_info": {
      "name": "python"
    }
  },
  "cells": [
    {
      "cell_type": "markdown",
      "metadata": {
        "id": "view-in-github",
        "colab_type": "text"
      },
      "source": [
        "<a href=\"https://colab.research.google.com/github/hyesu33/sample.txt/blob/main/Lesson3.ipynb\" target=\"_parent\"><img src=\"https://colab.research.google.com/assets/colab-badge.svg\" alt=\"Open In Colab\"/></a>"
      ]
    },
    {
      "cell_type": "code",
      "execution_count": null,
      "metadata": {
        "colab": {
          "base_uri": "https://localhost:8080/"
        },
        "id": "H8m-vglVESH1",
        "outputId": "ed56018d-a404-4bcf-e302-6190da73cfe6"
      },
      "outputs": [
        {
          "output_type": "stream",
          "name": "stdout",
          "text": [
            "Hello, Python!\n"
          ]
        }
      ],
      "source": [
        "# This is a comment line <= This is a comment line\n",
        "\n",
        "print(\"Hello, Python!\") # this is a code line"
      ]
    },
    {
      "cell_type": "markdown",
      "source": [
        "# This is a Heading 1."
      ],
      "metadata": {
        "id": "rRb8w0iLFpyv"
      }
    },
    {
      "cell_type": "code",
      "source": [
        "name = input ()\n",
        "print (f\"My name is {name}.\")"
      ],
      "metadata": {
        "colab": {
          "base_uri": "https://localhost:8080/"
        },
        "id": "o1cE2q_wHO60",
        "outputId": "2ee780e2-14af-445f-c362-347ba149ca48"
      },
      "execution_count": null,
      "outputs": [
        {
          "output_type": "stream",
          "name": "stdout",
          "text": [
            "Hyesu\n",
            "My name is Hyesu.\n"
          ]
        }
      ]
    }
  ]
}